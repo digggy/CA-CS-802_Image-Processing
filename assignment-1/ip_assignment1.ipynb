{
 "cells": [
  {
   "cell_type": "code",
   "execution_count": 1,
   "metadata": {},
   "outputs": [],
   "source": [
    "import csv\n",
    "from numpy import genfromtxt\n",
    "my_data = genfromtxt('f2.txt', delimiter=',').astype(int)\n"
   ]
  },
  {
   "cell_type": "code",
   "execution_count": null,
   "metadata": {},
   "outputs": [],
   "source": [
    "with open('f2.txt','r') as f1_csv:\n",
    "    csv_reader = csv.reader(f1_csv)\n",
    "    for line in csv_reader:\n",
    "        print(line)"
   ]
  },
  {
   "cell_type": "code",
   "execution_count": null,
   "metadata": {},
   "outputs": [],
   "source": [
    "type(my_data)"
   ]
  },
  {
   "cell_type": "code",
   "execution_count": 6,
   "metadata": {},
   "outputs": [
    {
     "name": "stdout",
     "output_type": "stream",
     "text": [
      "[[ 1  0  1]\n",
      " [ 1 -4  0]\n",
      " [ 1  0  1]]\n",
      "y-> 1 x-> 2\n"
     ]
    },
    {
     "data": {
      "text/plain": [
       "5"
      ]
     },
     "execution_count": 6,
     "metadata": {},
     "output_type": "execute_result"
    }
   ],
   "source": [
    "f1 = np.array(\n",
    "        [\n",
    "            [2, 4, 5, 5, 3],\n",
    "            [1, 0, 5, 5, 5],\n",
    "            [3, 2, 3, 4, 5],\n",
    "            [1, 2, 3, 4, 0],\n",
    "            [4, 4, 4, 4, 3]\n",
    "        ])  \n",
    "    \n",
    "# print(f1_with_boundary)\n",
    "# making element a \n",
    "a = np.array([\n",
    "                        [0,1,0],\n",
    "                        [0,5,0],\n",
    "                        [0,1,0]])\n",
    "# img element b\n",
    "b = np.array([\n",
    "                        [1,1,1],\n",
    "                        [1,1,0],\n",
    "                        [1,1,1]])\n",
    "\n",
    "c = b -a  \n",
    "print(c)\n",
    "# padding_y , padding_x = square_three_ones.shape[0]//2, square_three_ones.shape[1]//2 \n",
    "# f1_with_boundary = np.pad(f1, ((padding_y, padding_y),(padding_x, padding_x)), mode='constant', constant_values=1)\n",
    "# print(f1_with_boundary)\n",
    "np.any(c<0)\n",
    "itemindex = np.argwhere(b==0)\n",
    "for item in itemindex  :\n",
    "    print(\"y->\", item[0],\"x->\", item[1])\n",
    "    \n",
    "np.max(a)"
   ]
  },
  {
   "cell_type": "code",
   "execution_count": 8,
   "metadata": {},
   "outputs": [
    {
     "name": "stdout",
     "output_type": "stream",
     "text": [
      "f1: \n",
      " [[2 4 5 5 3]\n",
      " [1 0 5 5 5]\n",
      " [3 2 3 4 5]\n",
      " [1 2 3 4 0]\n",
      " [4 4 4 4 3]] \n",
      "\n",
      "f1_boundary: \n",
      " [[1 1 1 1 1]\n",
      " [2 4 5 5 3]\n",
      " [1 0 5 5 5]\n",
      " [3 2 3 4 5]\n",
      " [1 2 3 4 0]\n",
      " [4 4 4 4 3]\n",
      " [1 1 1 1 1]] \n",
      "\n",
      "f1_eroded: \n",
      " [[1 0 1 1 1]\n",
      " [1 0 3 4 3]\n",
      " [1 0 3 4 0]\n",
      " [1 2 3 4 0]\n",
      " [1 1 1 1 0]] \n",
      "\n"
     ]
    },
    {
     "data": {
      "image/png": "[encoded data removed]",
      "text/plain": [
       "<Figure size 1800x360 with 3 Axes>"
      ]
     },
     "metadata": {
      "needs_background": "light"
     },
     "output_type": "display_data"
    }
   ],
   "source": [
    "import numpy as np\n",
    "from matplotlib import pyplot as plt\n",
    "plt.rcParams[\"figure.figsize\"] = (25,5)\n",
    "\n",
    "\n",
    "\n",
    "def erosion_f1(): \n",
    "#     f1 = np.array(\n",
    "#             [[1, 1, 1, 1, 1], \n",
    "#             [1, 0, 1, 1, 1],\n",
    "#             [1, 1, 1, 1, 1],\n",
    "#             [1, 0, 1, 1, 1],\n",
    "#             [1, 1, 1, 1, 1]])       \n",
    "\n",
    "    f1 = np.array(\n",
    "            [\n",
    "                [2, 4, 5, 5, 3],\n",
    "                [1, 0, 5, 5, 5],\n",
    "                [3, 2, 3, 4, 5],\n",
    "                [1, 2, 3, 4, 0],\n",
    "                [4, 4, 4, 4, 3]\n",
    "            ])  \n",
    "    vmax = np.max(f1)\n",
    "    # print(f1_with_boundary)\n",
    "    SE = np.array([\n",
    "                            [1],\n",
    "                            [1],\n",
    "                            [1]])\n",
    "\n",
    "    SE_y = SE.shape[0]\n",
    "    SE_x = SE.shape[1]\n",
    "    \n",
    "    \n",
    "    padding_y , padding_x = SE.shape[0]//2, SE.shape[1]//2 \n",
    "    f1_with_boundary = np.pad(f1, ((padding_y, padding_y),(padding_x, padding_x)), mode='constant', constant_values=1)\n",
    "    f1_subarr = []\n",
    "    f1_erosion = np.zeros((f1.shape[0], f1.shape[1]), int)\n",
    "    \n",
    "    # get the idx of the 1s in the SE\n",
    "    SE_one_idxs = np.argwhere(SE==1)\n",
    "   \n",
    "   # find sub-matrices inside the original matrix which are identical to the erosion matrix\n",
    "    for i in range(f1.shape[0]):\n",
    "        for j in range(f1.shape[1]):\n",
    "            f1_subarr =  f1_with_boundary[i:i+SE_y, j:j+SE_x]\n",
    "            f1_subarr_filtered = []\n",
    "            # iterate through the idxes 1s in the masking SE elements\n",
    "            for one_idx in SE_one_idxs:\n",
    "                f1_subarr_filtered.append(f1_subarr[one_idx[0],one_idx[1]])\n",
    "            f1_erosion[i,j]=np.amin(f1_subarr_filtered)\n",
    "\n",
    "    print(\"f1: \\n\",f1 , end = ' \\n\\n')\n",
    "    print(\"f1_boundary: \\n\",f1_with_boundary, end = ' \\n\\n')\n",
    "    print(\"f1_eroded: \\n\",f1_erosion, end = ' \\n\\n')\n",
    "\n",
    "    # plot main images\n",
    "    plt.subplot(1,3,1)\n",
    "    # grid for the image \n",
    "    ax = plt.gca();\n",
    "    ax.set_xticks(np.arange(-.5, 10, 1), minor=True)\n",
    "    ax.set_yticks(np.arange(-.5, 10, 1), minor=True)\n",
    "    ax.grid(which='minor', color='w', linestyle='-', linewidth=1)\n",
    "    \n",
    "    plt.imshow(f1, cmap='gray',vmin=0,vmax=vmax)\n",
    "    plt.title('f1')\n",
    "#     plt.axis('off')\n",
    "\n",
    "    # Plot the bordered image\n",
    "    plt.subplot(1,3,2)\n",
    "    # grid for the image \n",
    "    ax = plt.gca();\n",
    "    ax.set_xticks(np.arange(-.5, 10, 1), minor=True)\n",
    "    ax.set_yticks(np.arange(-.5, 10, 1), minor=True)\n",
    "    ax.grid(which='minor', color='b', linestyle='-', linewidth=1)\n",
    "    \n",
    "    plt.imshow(f1_with_boundary, cmap='gray', vmin=0,vmax=vmax)\n",
    "    plt.title('f1_with_boundary')\n",
    "#     plt.axis('off')\n",
    "\n",
    "    # Plot the exepected output\n",
    "    plt.subplot(1,3,3)\n",
    "    ax = plt.gca();\n",
    "    ax.set_xticks(np.arange(-.5, 10, 1), minor=True)\n",
    "    ax.set_yticks(np.arange(-.5, 10, 1), minor=True)\n",
    "    ax.grid(which='minor', color='b', linestyle='-', linewidth=1)\n",
    "    \n",
    "    plt.imshow(f1_erosion, cmap='gray',vmin=0,vmax=vmax)\n",
    "    plt.title('eroded')\n",
    "#     plt.axis('off')\n",
    "    plt.show()\n",
    "\n",
    "if __name__ == \"__main__\":\n",
    "    erosion_f1()"
   ]
  },
  {
   "cell_type": "code",
   "execution_count": null,
   "metadata": {},
   "outputs": [],
   "source": []
  }
 ],
 "metadata": {
  "kernelspec": {
   "display_name": "Python 3",
   "language": "python",
   "name": "python3"
  },
  "language_info": {
   "codemirror_mode": {
    "name": "ipython",
    "version": 3
   },
   "file_extension": ".py",
   "mimetype": "text/x-python",
   "name": "python",
   "nbconvert_exporter": "python",
   "pygments_lexer": "ipython3",
   "version": "3.8.3"
  }
 },
 "nbformat": 4,
 "nbformat_minor": 4
}
