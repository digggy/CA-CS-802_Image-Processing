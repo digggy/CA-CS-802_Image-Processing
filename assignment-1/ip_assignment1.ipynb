{
 "cells": [
  {
   "cell_type": "code",
   "execution_count": null,
   "metadata": {},
   "outputs": [],
   "source": [
    "import csv\n",
    "from numpy import genfromtxt\n",
    "my_data = genfromtxt('f3.txt', delimiter=',').astype(int)\n",
    "max_val=np.max(my_data)\n",
    "plt.imshow(my_data, cmap='gray',vmin=0,vmax=max_val)\n"
   ]
  },
  {
   "cell_type": "code",
   "execution_count": null,
   "metadata": {},
   "outputs": [],
   "source": [
    "with open('f2.txt','r') as f1_csv:\n",
    "    csv_reader = csv.reader(f1_csv)\n",
    "    for line in csv_reader:\n",
    "        print(line)"
   ]
  },
  {
   "cell_type": "code",
   "execution_count": null,
   "metadata": {},
   "outputs": [],
   "source": [
    "dig = np.array([[1,0,0],\n",
    "               [0,1,0],\n",
    "               [0,0,1]])\n",
    "np.flip(dig, 0)"
   ]
  },
  {
   "cell_type": "code",
   "execution_count": null,
   "metadata": {},
   "outputs": [],
   "source": [
    "f1 = np.array(\n",
    "        [\n",
    "            [2, 4, 5, 5, 3],\n",
    "            [1, 0, 5, 5, 5],\n",
    "            [3, 2, 3, 4, 5],\n",
    "            [1, 2, 3, 4, 0],\n",
    "            [4, 4, 4, 4, 3]\n",
    "        ])  \n",
    "    \n",
    "# print(f1_with_boundary)\n",
    "# making element a \n",
    "a = np.array([\n",
    "                        [0,1,0],\n",
    "                        [0,5,0],\n",
    "                        [0,1,0]])\n",
    "# img element b\n",
    "b = np.array([\n",
    "                        [1,1,1],\n",
    "                        [1,1,0],\n",
    "                        [1,1,1]])\n",
    "\n",
    "c = b -a  \n",
    "print(c)\n",
    "# padding_y , padding_x = square_three_ones.shape[0]//2, square_three_ones.shape[1]//2 \n",
    "# f1_with_boundary = np.pad(f1, ((padding_y, padding_y),(padding_x, padding_x)), mode='constant', constant_values=1)\n",
    "# print(f1_with_boundary)\n",
    "np.any(c<0)\n",
    "itemindex = np.argwhere(b==0)\n",
    "for item in itemindex  :\n",
    "    print(\"y->\", item[0],\"x->\", item[1])\n",
    "    \n",
    "np.max(a)"
   ]
  },
  {
   "cell_type": "code",
   "execution_count": null,
   "metadata": {},
   "outputs": [],
   "source": [
    "# delimeters\n",
    "try:\n",
    "    from StringIO import StringIO ## for Python 2\n",
    "except ImportError:\n",
    "    from io import StringIO ## for Python 3\n",
    "\n",
    "# data = u\"1\\n1\\n1\"\n",
    "# mydata = np.genfromtxt(StringIO(data), delimiter=1)\n",
    "# print(mydata)\n",
    "# mydata.reshape(mydata.shape[0],-1).shape\n",
    "\n",
    "img=genfromtxt('f2.txt', delimiter=',').astype(int)\n",
    "SE = genfromtxt('SE2.txt', delimiter=',').astype(int)\n",
    "print(SE.shape[0])\n",
    "SE= SE.reshape(SE.shape[0],1)\n",
    "print(SE)"
   ]
  },
  {
   "cell_type": "code",
   "execution_count": null,
   "metadata": {},
   "outputs": [],
   "source": [
    "img=genfromtxt('f3.txt', delimiter=',').astype(int)\n",
    "SE = genfromtxt('SE4.txt', delimiter=',').astype(int)\n",
    "print(SE.shape)"
   ]
  },
  {
   "cell_type": "code",
   "execution_count": 6,
   "metadata": {},
   "outputs": [
    {
     "data": {
      "text/plain": [
       "'Hello.png'"
      ]
     },
     "execution_count": 6,
     "metadata": {},
     "output_type": "execute_result"
    }
   ],
   "source": [
    "a = \"Hello\"\n",
    "b = a+\".png\"\n",
    "b"
   ]
  },
  {
   "cell_type": "markdown",
   "metadata": {},
   "source": [
    "rough code above\n",
    "## Actuall code below :)"
   ]
  },
  {
   "cell_type": "code",
   "execution_count": 4,
   "metadata": {},
   "outputs": [
    {
     "name": "stdout",
     "output_type": "stream",
     "text": [
      "img: \n",
      " [[1 1 1 1 1]\n",
      " [1 0 1 1 1]\n",
      " [1 1 1 1 1]\n",
      " [1 0 1 1 1]\n",
      " [1 1 1 1 1]] \n",
      "\n",
      "img_boundary: \n",
      " [[1 1 1 1 1 1 1]\n",
      " [1 1 1 1 1 1 1]\n",
      " [1 1 0 1 1 1 1]\n",
      " [1 1 1 1 1 1 1]\n",
      " [1 1 0 1 1 1 1]\n",
      " [1 1 1 1 1 1 1]\n",
      " [1 1 1 1 1 1 1]] \n",
      "\n",
      "img_eroded: \n",
      " [[0 1 1 1 1]\n",
      " [0 1 0 1 1]\n",
      " [0 0 1 1 1]\n",
      " [0 1 0 1 1]\n",
      " [1 0 1 1 1]] \n",
      "\n"
     ]
    },
    {
     "data": {
      "image/png": "[encoded data removed]",
      "text/plain": [
       "<Figure size 1800x360 with 4 Axes>"
      ]
     },
     "metadata": {
      "needs_background": "light"
     },
     "output_type": "display_data"
    }
   ],
   "source": [
    "import numpy as np\n",
    "from matplotlib import pyplot as plt\n",
    "from numpy import genfromtxt\n",
    "plt.rcParams[\"figure.figsize\"] = (25,5)\n",
    "\n",
    "def erosion(): \n",
    "# Question 1    \n",
    "    img=genfromtxt('f1.txt', delimiter=',').astype(int)\n",
    "    SE = genfromtxt('SE_asym_no_origin.txt', delimiter=',').astype(int)\n",
    "\n",
    "\n",
    "# Question 2\n",
    "#     img=genfromtxt('f2.txt', delimiter=',').astype(int)\n",
    "#     SE = genfromtxt('SE2.txt', delimiter=',').astype(int)\n",
    "#     SE= SE.reshape(SE.shape[0],1)\n",
    "\n",
    "\n",
    "# Question 3\n",
    "# turn off the axis and gril lines to remove the blue lines in the boder\n",
    "# check the diff between images to find the difference between eroded and original\n",
    "#     img=genfromtxt('f3.txt', delimiter=',').astype(int)\n",
    "#     SE = genfromtxt('SE3.txt', delimiter=',').astype(int)\n",
    "#     SE= SE.reshape(1,SE.shape[0])\n",
    "\n",
    "# Question 4\n",
    "# turn off the axis and gril lines to remove the blue lines in the boder\n",
    "# check the diff between images to find the difference between eroded and original\n",
    "#     img=genfromtxt('f3.txt', delimiter=',').astype(int)\n",
    "#     SE = genfromtxt('SE4.txt', delimiter=',').astype(int)\n",
    "\n",
    "# Question 5\n",
    "# check the diff between images to find the difference between eroded and original\n",
    "#     img=genfromtxt('f3.txt', delimiter=',').astype(int)\n",
    "#     SE = genfromtxt('SE5.txt', delimiter=',').astype(int)\n",
    "\n",
    "# Question 6\n",
    "# check the diff between images to find the difference between eroded and original\n",
    "#     img=genfromtxt('f3.txt', delimiter=',').astype(int)\n",
    "#     SE = genfromtxt('SE6.txt', delimiter=',').astype(int)\n",
    "\n",
    "    vmax = np.max(img)\n",
    "    vmin = np.min(img)\n",
    "    \n",
    "    operation ='e'\n",
    "    \n",
    "    padding_value = None\n",
    "    operation_dilation = None\n",
    "    operation_erosion = None\n",
    "    \n",
    "    if(operation == 'd'):\n",
    "        padding_value = vmin\n",
    "        operation_dilation =True\n",
    "    elif(operation == 'e'):\n",
    "        padding_value = vmax\n",
    "        operation_erosion = True\n",
    "    \n",
    "    SE_y = SE.shape[0]\n",
    "    SE_x = SE.shape[1]\n",
    "    \n",
    "    # A flag for axes\n",
    "    turn_off_axes = False\n",
    "    if (img.shape[0]>10 or img.shape[1]>10):\n",
    "        turn_off_axes= True\n",
    "    \n",
    "    padding_y , padding_x = SE.shape[0]//2, SE.shape[1]//2 \n",
    "    img_with_boundary = np.pad(img, ((padding_y, padding_y),(padding_x, padding_x)), mode='constant', \n",
    "                               constant_values=padding_value)\n",
    "    img_subarr = []\n",
    "    img_erosion = np.zeros((img.shape[0], img.shape[1]), int)\n",
    "    # get the idx of the 1s in the SE\n",
    "    SE_one_idxs = np.argwhere(SE==1)\n",
    "   # find sub-matrices inside the original matrix which are identical to the erosion matrix\n",
    "    for i in range(img.shape[0]):\n",
    "        for j in range(img.shape[1]):\n",
    "            img_subarr =  img_with_boundary[i:i+SE_y, j:j+SE_x]\n",
    "            img_subarr_filtered = []\n",
    "            # iterate through the idxes 1s in the masking SE elements\n",
    "            for one_idx in SE_one_idxs:\n",
    "                img_subarr_filtered.append(img_subarr[one_idx[0],one_idx[1]])\n",
    "            if (operation_erosion):\n",
    "                img_erosion[i,j]=np.amin(img_subarr_filtered)\n",
    "            elif(operation_dilation):\n",
    "                img_erosion[i,j]=np.amax(img_subarr_filtered)\n",
    "\n",
    "    print(\"img: \\n\",img , end = ' \\n\\n')\n",
    "    print(\"img_boundary: \\n\",img_with_boundary, end = ' \\n\\n')\n",
    "    print(\"img_eroded: \\n\",img_erosion, end = ' \\n\\n')\n",
    "\n",
    "\n",
    "    # plot main images\n",
    "    plt.subplot(1,4,1)\n",
    "    # grid for the image \n",
    "    ax = plt.gca();\n",
    "    ax.set_xticks(np.arange(-.5, 10, 1), minor=True)\n",
    "    ax.set_yticks(np.arange(-.5, 10, 1), minor=True)\n",
    "    ax.grid(which='minor', color='r', linestyle='-', linewidth=2)\n",
    "    plt.imshow(SE, cmap='gray',vmin=0,vmax=1)\n",
    "    plt.title('SE')\n",
    "    plt.axis('off') if turn_off_axes else None\n",
    "\n",
    "    \n",
    "    # plot main images\n",
    "    plt.subplot(1,4,2)\n",
    "    # grid for the image \n",
    "    ax = plt.gca();\n",
    "    ax.set_xticks(np.arange(-.5, 10, 1), minor=True)\n",
    "    ax.set_yticks(np.arange(-.5, 10, 1), minor=True)\n",
    "    ax.grid(which='minor', color='b', linestyle='-', linewidth=1)\n",
    "    \n",
    "    plt.imshow(img, cmap='gray',vmin=0,vmax=vmax)\n",
    "    plt.title('img')\n",
    "    plt.axis('off') if turn_off_axes else None\n",
    "\n",
    "    # Plot the bordered image\n",
    "    plt.subplot(1,4,3)\n",
    "    # grid for the image \n",
    "    ax = plt.gca();\n",
    "    ax.set_xticks(np.arange(-.5, 10, 1), minor=True)\n",
    "    ax.set_yticks(np.arange(-.5, 10, 1), minor=True)\n",
    "    ax.grid(which='minor', color='b', linestyle='-', linewidth=1)\n",
    "    \n",
    "    plt.imshow(img_with_boundary, cmap='gray', vmin=0,vmax=vmax)\n",
    "    plt.title('img_with_boundary')\n",
    "    plt.axis('off') if turn_off_axes else None\n",
    "\n",
    "    # Plot the exepected output\n",
    "    plt.subplot(1,4,4)\n",
    "    ax = plt.gca();\n",
    "    ax.set_xticks(np.arange(-.5, 10, 1), minor=True)\n",
    "    ax.set_yticks(np.arange(-.5, 10, 1), minor=True)\n",
    "    ax.grid(which='minor', color='b', linestyle='-', linewidth=1)\n",
    "    \n",
    "    plt.imshow(img_erosion, cmap='gray',vmin=0,vmax=vmax)\n",
    "    plt.title('eroded')\n",
    "    plt.axis('off') if turn_off_axes else None\n",
    "    plt.show()\n",
    "    \n",
    "\n",
    "# if __name__ == \"__main__\":\n",
    "erosion()"
   ]
  },
  {
   "cell_type": "code",
   "execution_count": null,
   "metadata": {},
   "outputs": [],
   "source": []
  }
 ],
 "metadata": {
  "kernelspec": {
   "display_name": "Python 3",
   "language": "python",
   "name": "python3"
  },
  "language_info": {
   "codemirror_mode": {
    "name": "ipython",
    "version": 3
   },
   "file_extension": ".py",
   "mimetype": "text/x-python",
   "name": "python",
   "nbconvert_exporter": "python",
   "pygments_lexer": "ipython3",
   "version": "3.8.3"
  }
 },
 "nbformat": 4,
 "nbformat_minor": 4
}
